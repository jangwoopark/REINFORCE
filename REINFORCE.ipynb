{
  "nbformat": 4,
  "nbformat_minor": 0,
  "metadata": {
    "colab": {
      "name": "REINFORCE.ipynb",
      "version": "0.3.2",
      "provenance": []
    },
    "kernelspec": {
      "name": "python3",
      "display_name": "Python 3"
    },
    "accelerator": "GPU"
  },
  "cells": [
    {
      "metadata": {
        "id": "0QwHXpbce9lX",
        "colab_type": "text"
      },
      "cell_type": "markdown",
      "source": [
        "Don't forget to turn on GPU in Colab."
      ]
    },
    {
      "metadata": {
        "id": "hgMuWJcIM3bK",
        "colab_type": "code",
        "colab": {
          "base_uri": "https://localhost:8080/",
          "height": 54
        },
        "outputId": "0b1c8a44-144e-42b1-bb76-551d4dee768d"
      },
      "cell_type": "code",
      "source": [
        "from google.colab import drive\n",
        "drive.mount('/content/drive/')"
      ],
      "execution_count": 1,
      "outputs": [
        {
          "output_type": "stream",
          "text": [
            "Drive already mounted at /content/drive/; to attempt to forcibly remount, call drive.mount(\"/content/drive/\", force_remount=True).\n"
          ],
          "name": "stdout"
        }
      ]
    },
    {
      "metadata": {
        "id": "GmtjvVY2M6MY",
        "colab_type": "code",
        "colab": {
          "base_uri": "https://localhost:8080/",
          "height": 34
        },
        "outputId": "f8763d74-a63b-4cdb-880b-2a070d4e7971"
      },
      "cell_type": "code",
      "source": [
        "cd /content/drive/My\\ Drive/Colab\\ Notebooks/RL/reinforce"
      ],
      "execution_count": 2,
      "outputs": [
        {
          "output_type": "stream",
          "text": [
            "/content/drive/My Drive/Colab Notebooks/RL/reinforce\n"
          ],
          "name": "stdout"
        }
      ]
    },
    {
      "metadata": {
        "id": "iW7Oho-gM8yI",
        "colab_type": "code",
        "colab": {
          "base_uri": "https://localhost:8080/",
          "height": 34
        },
        "outputId": "05242841-f16c-419d-c24f-3699e638cd61"
      },
      "cell_type": "code",
      "source": [
        "ls"
      ],
      "execution_count": 3,
      "outputs": [
        {
          "output_type": "stream",
          "text": [
            "README.md  REINFORCE.ipynb\n"
          ],
          "name": "stdout"
        }
      ]
    },
    {
      "metadata": {
        "id": "upDIKrAHdUPs",
        "colab_type": "text"
      },
      "cell_type": "markdown",
      "source": [
        "# REINFORCE\n",
        "\n",
        "---\n",
        "\n",
        "In this notebook, we will train REINFORCE with OpenAI Gym's Cartpole environment."
      ]
    },
    {
      "metadata": {
        "id": "sm4b_9B3dUPu",
        "colab_type": "text"
      },
      "cell_type": "markdown",
      "source": [
        "### 1. Import the Necessary Packages"
      ]
    },
    {
      "metadata": {
        "id": "wX9enXtydUPw",
        "colab_type": "code",
        "colab": {}
      },
      "cell_type": "code",
      "source": [
        "import gym\n",
        "gym.logger.set_level(40) # suppress warnings (please remove if gives error)\n",
        "import numpy as np\n",
        "from collections import deque\n",
        "import matplotlib.pyplot as plt\n",
        "%matplotlib inline\n",
        "\n",
        "import torch\n",
        "torch.manual_seed(0) # set random seed\n",
        "import torch.nn as nn\n",
        "import torch.nn.functional as F\n",
        "import torch.optim as optim\n",
        "from torch.distributions import Categorical"
      ],
      "execution_count": 0,
      "outputs": []
    },
    {
      "metadata": {
        "id": "bfHA-uA6dUP0",
        "colab_type": "text"
      },
      "cell_type": "markdown",
      "source": [
        "### 2. Define the Architecture of the Policy"
      ]
    },
    {
      "metadata": {
        "id": "2KBOEbOydUP1",
        "colab_type": "code",
        "outputId": "b3f359a5-9a79-4af9-8f34-d6fad600b708",
        "colab": {
          "base_uri": "https://localhost:8080/",
          "height": 51
        }
      },
      "cell_type": "code",
      "source": [
        "env = gym.make('CartPole-v0')\n",
        "env.seed(0)\n",
        "print('observation space:', env.observation_space)\n",
        "print('action space:', env.action_space)\n",
        "\n",
        "device = torch.device(\"cuda:0\" if torch.cuda.is_available() else \"cpu\")\n",
        "\n",
        "class Policy(nn.Module):\n",
        "    def __init__(self, s_size=4, h_size=16, a_size=2):\n",
        "        super(Policy, self).__init__()\n",
        "        self.fc1 = nn.Linear(s_size, h_size)\n",
        "        self.fc2 = nn.Linear(h_size, a_size)\n",
        "\n",
        "    def forward(self, x):\n",
        "        x = F.relu(self.fc1(x))\n",
        "        x = self.fc2(x)\n",
        "        return F.softmax(x, dim=1)\n",
        "    \n",
        "    def act(self, state):\n",
        "        state = torch.from_numpy(state).float().unsqueeze(0).to(device)\n",
        "        probs = self.forward(state).cpu()\n",
        "        m = Categorical(probs)\n",
        "        action = m.sample()\n",
        "        return action.item(), m.log_prob(action)"
      ],
      "execution_count": 5,
      "outputs": [
        {
          "output_type": "stream",
          "text": [
            "observation space: Box(4,)\n",
            "action space: Discrete(2)\n"
          ],
          "name": "stdout"
        }
      ]
    },
    {
      "metadata": {
        "id": "Ww__ErA-dUP8",
        "colab_type": "text"
      },
      "cell_type": "markdown",
      "source": [
        "### 3. Train the Agent with REINFORCE"
      ]
    },
    {
      "metadata": {
        "id": "gTxo14M5dUP9",
        "colab_type": "code",
        "outputId": "c828dc91-eb85-4522-9a1c-cc2fb4e86a78",
        "colab": {
          "base_uri": "https://localhost:8080/",
          "height": 153
        }
      },
      "cell_type": "code",
      "source": [
        "policy = Policy().to(device)\n",
        "optimizer = optim.Adam(policy.parameters(), lr=1e-2)\n",
        "\n",
        "def reinforce(n_episodes=1000, max_t=1000, gamma=1.0, print_every=100):\n",
        "    scores_deque = deque(maxlen=100)\n",
        "    scores = []\n",
        "    for i_episode in range(1, n_episodes+1):\n",
        "        saved_log_probs = []\n",
        "        rewards = []\n",
        "        state = env.reset()\n",
        "        for t in range(max_t):\n",
        "            action, log_prob = policy.act(state)\n",
        "            saved_log_probs.append(log_prob)\n",
        "            state, reward, done, _ = env.step(action)\n",
        "            rewards.append(reward)\n",
        "            if done:\n",
        "                break \n",
        "        scores_deque.append(sum(rewards))\n",
        "        scores.append(sum(rewards))\n",
        "        \n",
        "        discounts = [gamma**i for i in range(len(rewards)+1)]\n",
        "        R = sum([a*b for a,b in zip(discounts, rewards)])\n",
        "        \n",
        "        policy_loss = []\n",
        "        for log_prob in saved_log_probs:\n",
        "            policy_loss.append(-log_prob * R)\n",
        "        policy_loss = torch.cat(policy_loss).sum()\n",
        "        \n",
        "        optimizer.zero_grad()\n",
        "        policy_loss.backward()\n",
        "        optimizer.step()\n",
        "        \n",
        "        if i_episode % print_every == 0:\n",
        "            print('Episode {}\\tAverage Score: {:.2f}'.format(i_episode, np.mean(scores_deque)))\n",
        "        if np.mean(scores_deque)>=195.0:\n",
        "            print('Environment solved in {:d} episodes!\\tAverage Score: {:.2f}'.format(i_episode-100, np.mean(scores_deque)))\n",
        "            break\n",
        "        \n",
        "    return scores\n",
        "    \n",
        "scores = reinforce()"
      ],
      "execution_count": 6,
      "outputs": [
        {
          "output_type": "stream",
          "text": [
            "Episode 100\tAverage Score: 34.47\n",
            "Episode 200\tAverage Score: 66.26\n",
            "Episode 300\tAverage Score: 87.82\n",
            "Episode 400\tAverage Score: 72.83\n",
            "Episode 500\tAverage Score: 172.00\n",
            "Episode 600\tAverage Score: 160.65\n",
            "Episode 700\tAverage Score: 167.15\n",
            "Environment solved in 691 episodes!\tAverage Score: 196.69\n"
          ],
          "name": "stdout"
        }
      ]
    },
    {
      "metadata": {
        "id": "Zx8xUuVLdUQC",
        "colab_type": "text"
      },
      "cell_type": "markdown",
      "source": [
        "### 4. Plot the Scores"
      ]
    },
    {
      "metadata": {
        "id": "KksCSoiIdUQD",
        "colab_type": "code",
        "outputId": "77aa50d5-bbd0-4c8d-cd6e-125d84bb91af",
        "colab": {
          "base_uri": "https://localhost:8080/",
          "height": 279
        }
      },
      "cell_type": "code",
      "source": [
        "fig = plt.figure()\n",
        "ax = fig.add_subplot(111)\n",
        "plt.plot(np.arange(1, len(scores)+1), scores)\n",
        "plt.ylabel('Score')\n",
        "plt.xlabel('Episode #')\n",
        "plt.show()"
      ],
      "execution_count": 7,
      "outputs": [
        {
          "output_type": "display_data",
          "data": {
            "image/png": "[encoded data removed]",
            "text/plain": [
              "<Figure size 432x288 with 1 Axes>"
            ]
          },
          "metadata": {
            "tags": []
          }
        }
      ]
    },
    {
      "metadata": {
        "id": "1klO7JZudUQI",
        "colab_type": "text"
      },
      "cell_type": "markdown",
      "source": [
        "### 5. Watch a Smart Agent!"
      ]
    },
    {
      "metadata": {
        "id": "Vl-sYBYnMPqM",
        "colab_type": "code",
        "colab": {}
      },
      "cell_type": "code",
      "source": [
        "!pip install gym pyvirtualdisplay > /dev/null 2>&1\n",
        "!apt-get install -y xvfb python-opengl ffmpeg > /dev/null 2>&1"
      ],
      "execution_count": 0,
      "outputs": []
    },
    {
      "metadata": {
        "id": "wbwMNdLyMQlB",
        "colab_type": "code",
        "colab": {}
      },
      "cell_type": "code",
      "source": [
        "import gym\n",
        "from gym import logger as gymlogger\n",
        "from gym.wrappers import Monitor\n",
        "gymlogger.set_level(40) #error only\n",
        "\n",
        "import math\n",
        "import glob\n",
        "import io\n",
        "import base64\n",
        "from IPython.display import HTML\n",
        "from IPython import display as ipythondisplay"
      ],
      "execution_count": 0,
      "outputs": []
    },
    {
      "metadata": {
        "id": "5cHYshdAMUie",
        "colab_type": "code",
        "colab": {
          "base_uri": "https://localhost:8080/",
          "height": 54
        },
        "outputId": "7a81efeb-ceee-4770-84e7-a9ae46450b4d"
      },
      "cell_type": "code",
      "source": [
        "from pyvirtualdisplay import Display\n",
        "display = Display(visible=0, size=(400, 300))\n",
        "display.start()"
      ],
      "execution_count": 10,
      "outputs": [
        {
          "output_type": "execute_result",
          "data": {
            "text/plain": [
              "<Display cmd_param=['Xvfb', '-br', '-nolisten', 'tcp', '-screen', '0', '400x300x24', ':1005'] cmd=['Xvfb', '-br', '-nolisten', 'tcp', '-screen', '0', '400x300x24', ':1005'] oserror=None return_code=None stdout=\"None\" stderr=\"None\" timeout_happened=False>"
            ]
          },
          "metadata": {
            "tags": []
          },
          "execution_count": 10
        }
      ]
    },
    {
      "metadata": {
        "id": "4q7mXFcZMbTF",
        "colab_type": "code",
        "colab": {}
      },
      "cell_type": "code",
      "source": [
        "def wrap_env(env):\n",
        "  env = Monitor(env, './video', force=True)\n",
        "  return env"
      ],
      "execution_count": 0,
      "outputs": []
    },
    {
      "metadata": {
        "id": "UUpIZx44MXe9",
        "colab_type": "code",
        "colab": {}
      },
      "cell_type": "code",
      "source": [
        "def show_video():\n",
        "  mp4list = glob.glob('video/*.mp4')\n",
        "  if len(mp4list) > 0:\n",
        "    mp4 = mp4list[0]\n",
        "    video = io.open(mp4, 'r+b').read()\n",
        "    encoded = base64.b64encode(video)\n",
        "    ipythondisplay.display(HTML(data='''<video alt=\"test\" autoplay \n",
        "                loop controls style=\"height: 400px;\">\n",
        "                <source src=\"data:video/mp4;base64,{0}\" type=\"video/mp4\" />\n",
        "             </video>'''.format(encoded.decode('ascii'))))\n",
        "  else: \n",
        "    print(\"Could not find video\")"
      ],
      "execution_count": 0,
      "outputs": []
    },
    {
      "metadata": {
        "id": "B04G5fFaMeRc",
        "colab_type": "code",
        "colab": {}
      },
      "cell_type": "code",
      "source": [
        "env = wrap_env(gym.make('CartPole-v0'))\n",
        "env.seed(505);"
      ],
      "execution_count": 0,
      "outputs": []
    },
    {
      "metadata": {
        "id": "CrJlv9aEdUQJ",
        "colab_type": "code",
        "colab": {}
      },
      "cell_type": "code",
      "source": [
        "#env = gym.make('CartPole-v0')\n",
        "\n",
        "state = env.reset()\n",
        "for t in range(1000):\n",
        "    action, _ = policy.act(state)\n",
        "    env.render()\n",
        "    state, reward, done, _ = env.step(action)\n",
        "    if done:\n",
        "        break \n",
        "\n",
        "env.close()"
      ],
      "execution_count": 0,
      "outputs": []
    },
    {
      "metadata": {
        "id": "CFkLIVrodUQN",
        "colab_type": "code",
        "colab": {
          "base_uri": "https://localhost:8080/",
          "height": 421
        },
        "outputId": "802e28bd-f2cd-4a2a-8b83-54c0920b9092"
      },
      "cell_type": "code",
      "source": [
        "show_video()"
      ],
      "execution_count": 15,
      "outputs": [
        {
          "output_type": "display_data",
          "data": {
            "text/html": [
              "<video alt=\"test\" autoplay \n",
              "                loop controls style=\"height: 400px;\">\n",
              "                <source src=\"data:video/mp4;base64,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\" type=\"video/mp4\" />\n",
              "             </video>"
            ],
            "text/plain": [
              "<IPython.core.display.HTML object>"
            ]
          },
          "metadata": {
            "tags": []
          }
        }
      ]
    }
  ]
}